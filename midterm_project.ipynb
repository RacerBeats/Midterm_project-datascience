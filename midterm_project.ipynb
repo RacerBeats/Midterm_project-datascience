{
  "nbformat": 4,
  "nbformat_minor": 0,
  "metadata": {
    "colab": {
      "provenance": [],
      "authorship_tag": "ABX9TyNKPXVB6vyDiCmIZeZ3QD87",
      "include_colab_link": true
    },
    "kernelspec": {
      "name": "python3",
      "display_name": "Python 3"
    },
    "language_info": {
      "name": "python"
    }
  },
  "cells": [
    {
      "cell_type": "markdown",
      "metadata": {
        "id": "view-in-github",
        "colab_type": "text"
      },
      "source": [
        "<a href=\"https://colab.research.google.com/github/RacerBeats/Midterm_project-datascience/blob/main/midterm_project.ipynb\" target=\"_parent\"><img src=\"https://colab.research.google.com/assets/colab-badge.svg\" alt=\"Open In Colab\"/></a>"
      ]
    },
    {
      "cell_type": "code",
      "execution_count": null,
      "metadata": {
        "id": "uWFbyZqpkaYR"
      },
      "outputs": [],
      "source": [
        "from datascience import *\n",
        "import numpy as np\n",
        "import matplotlib.pyplot as plt\n",
        "%matplotlib inline"
      ]
    },
    {
      "cell_type": "markdown",
      "source": [
        "Name: Ryan Cheung\n",
        "MIDTERM PROJECT\n",
        "\n",
        "Link: https://zenodo.org/records/4069457\n",
        "\n",
        "About: This is data scraped from UFC.org's official fight database.\n",
        "\n",
        "Motivation: I used to analyze data from fights by watching fights happen in footage. I want to analyze the data behind the fights, and see what exactly leads to a fighter's win or loss. Unlike the original study which made a more generalized analysis of the fight stats depending on KO or Decision, I want to analyze the results of a fight more closely, addressing each way to win in MMA (Submission, KO, Doctor's Stoppage, and Decisions).\n",
        "\n",
        "questions:\n",
        "\n",
        "\n",
        "1.   What is the most common method of victory in an MMA fight?\n",
        "2.   Is there a difference beween performance metrics between men and women?\n",
        "3.   how does attack rate correlate with victory method?\n",
        "4.   which performance metric is the strongest predictor of victory?\n",
        "\n",
        "5.   Are there significant differences in fight stats between weight class?\n",
        "6.   do fighters with higher significant strike percentages win more frequently?\n",
        "7.   do fighters in the red win more than fighters in the blue corner?\n",
        "\n",
        "\n",
        "\n",
        "\n",
        "\n"
      ],
      "metadata": {
        "id": "vMkBVjvglLmm"
      }
    },
    {
      "cell_type": "markdown",
      "source": [
        "**Setup Phase:** Load CSV into Table"
      ],
      "metadata": {
        "id": "eahIyuBaM2hF"
      }
    },
    {
      "cell_type": "code",
      "source": [
        "fight_results = Table.read_table(\"Lane_and_Briffa_MMA_Data_for_Dryad.csv\")\n",
        "fight_results.show(10)"
      ],
      "metadata": {
        "colab": {
          "base_uri": "https://localhost:8080/",
          "height": 673
        },
        "id": "-sWOdmSTM6ZA",
        "outputId": "3e77591b-71c5-43b0-e297-173c46efaeb7"
      },
      "execution_count": null,
      "outputs": [
        {
          "output_type": "display_data",
          "data": {
            "text/plain": [
              "<IPython.core.display.HTML object>"
            ],
            "text/html": [
              "<table border=\"1\" class=\"dataframe\">\n",
              "    <thead>\n",
              "        <tr>\n",
              "            <th>Fight ID</th> <th>Date</th> <th>Red fighter</th> <th>Blue fighter</th> <th>Focal ID</th> <th>Winner</th> <th>Focal colour</th> <th>Focal Outcome</th> <th>Sex</th> <th>Foc_Sig Str %</th> <th>Z_Foc Sig Str %</th> <th>Foc_Att strikes per sec</th> <th>Z_Foc_Att strikes per sec</th> <th>Method</th> <th>Method_B</th>\n",
              "        </tr>\n",
              "    </thead>\n",
              "    <tbody>\n",
              "        <tr>\n",
              "            <td>1       </td> <td>14/03/2020</td> <td>Johnny Walker            </td> <td>Nikita Krylov     </td> <td>Johnny Walker            </td> <td>Blue  </td> <td>Red         </td> <td>Loser        </td> <td>M   </td> <td>74           </td> <td>1.95766        </td> <td>0.12                   </td> <td>-0.618923                </td> <td>Decision</td> <td>Decision</td>\n",
              "        </tr>\n",
              "        <tr>\n",
              "            <td>2       </td> <td>14/03/2020</td> <td>Francisco Trinaldo       </td> <td>John Makdessi     </td> <td>John Makdessi            </td> <td>Red   </td> <td>Blue        </td> <td>Loser        </td> <td>M   </td> <td>54           </td> <td>0.622753       </td> <td>0.14                   </td> <td>-0.483255                </td> <td>Decision</td> <td>Decision</td>\n",
              "        </tr>\n",
              "        <tr>\n",
              "            <td>3       </td> <td>14/03/2020</td> <td>Jussier Formiga          </td> <td>Brandon Moreno    </td> <td>Jussier Formiga          </td> <td>Blue  </td> <td>Red         </td> <td>Loser        </td> <td>M   </td> <td>46           </td> <td>0.0887907      </td> <td>0.09                   </td> <td>-0.822425                </td> <td>Decision</td> <td>Decision</td>\n",
              "        </tr>\n",
              "        <tr>\n",
              "            <td>4       </td> <td>14/03/2020</td> <td>Amanda Ribas             </td> <td>Randa Markos      </td> <td>Randa Markos             </td> <td>Red   </td> <td>Blue        </td> <td>Loser        </td> <td>F   </td> <td>46           </td> <td>0.0887907      </td> <td>0.11                   </td> <td>-0.686757                </td> <td>Decision</td> <td>Decision</td>\n",
              "        </tr>\n",
              "        <tr>\n",
              "            <td>5       </td> <td>14/03/2020</td> <td>Elizeu Zaleski dos Santos</td> <td>Aleksi Kunchenko  </td> <td>Elizeu Zaleski dos Santos</td> <td>Red   </td> <td>Red         </td> <td>Winner       </td> <td>M   </td> <td>39           </td> <td>-0.378426      </td> <td>0.19                   </td> <td>-0.144085                </td> <td>Decision</td> <td>Decision</td>\n",
              "        </tr>\n",
              "        <tr>\n",
              "            <td>6       </td> <td>14/03/2020</td> <td>Marya Bueno Silva        </td> <td>Maryna Moroz      </td> <td>Maryna Moroz             </td> <td>Blue  </td> <td>Blue        </td> <td>Winner       </td> <td>F   </td> <td>56           </td> <td>0.756244       </td> <td>0.33                   </td> <td>0.805591                 </td> <td>Decision</td> <td>Decision</td>\n",
              "        </tr>\n",
              "        <tr>\n",
              "            <td>7       </td> <td>14/03/2020</td> <td>Bruno Silva              </td> <td>David Dvorak      </td> <td>Bruno Silva              </td> <td>Blue  </td> <td>Red         </td> <td>Loser        </td> <td>M   </td> <td>46           </td> <td>0.0887907      </td> <td>0.12                   </td> <td>-0.618923                </td> <td>Decision</td> <td>Decision</td>\n",
              "        </tr>\n",
              "        <tr>\n",
              "            <td>8       </td> <td>14/03/2020</td> <td>Veronica Macedo          </td> <td>Bea Malecki       </td> <td>Bea Malecki              </td> <td>Blue  </td> <td>Blue        </td> <td>Winner       </td> <td>F   </td> <td>52           </td> <td>0.489262       </td> <td>0.36                   </td> <td>1.00909                  </td> <td>Decision</td> <td>Decision</td>\n",
              "        </tr>\n",
              "        <tr>\n",
              "            <td>9       </td> <td>07/03/2020</td> <td>Israel Adesanya          </td> <td>Yoel Romero       </td> <td>Israel Adesanya          </td> <td>Red   </td> <td>Red         </td> <td>Winner       </td> <td>M   </td> <td>36           </td> <td>-0.578662      </td> <td>0.09                   </td> <td>-0.822425                </td> <td>Decision</td> <td>Decision</td>\n",
              "        </tr>\n",
              "        <tr>\n",
              "            <td>10      </td> <td>07/03/2020</td> <td>Weili Zhang              </td> <td>Joanna Jedrzejczyk</td> <td>Joanna Jedrzejczyk       </td> <td>Red   </td> <td>Blue        </td> <td>Loser        </td> <td>F   </td> <td>51           </td> <td>0.422517       </td> <td>0.25                   </td> <td>0.262919                 </td> <td>Decision</td> <td>Decision</td>\n",
              "        </tr>\n",
              "    </tbody>\n",
              "</table>\n",
              "<p>... (538 rows omitted)</p>"
            ]
          },
          "metadata": {}
        }
      ]
    },
    {
      "cell_type": "markdown",
      "source": [
        "Clean up data:"
      ],
      "metadata": {
        "id": "FFh4yM6kQXwv"
      }
    },
    {
      "cell_type": "code",
      "source": [
        "cleaned_fight_results = fight_results.drop('Fight ID', 'Method_B')\n",
        "cleaned_fight_results.show(10)"
      ],
      "metadata": {
        "colab": {
          "base_uri": "https://localhost:8080/",
          "height": 673
        },
        "id": "J5WzO76EQipG",
        "outputId": "4e7f320c-e17a-4116-da9f-f8a1b6599292"
      },
      "execution_count": null,
      "outputs": [
        {
          "output_type": "display_data",
          "data": {
            "text/plain": [
              "<IPython.core.display.HTML object>"
            ],
            "text/html": [
              "<table border=\"1\" class=\"dataframe\">\n",
              "    <thead>\n",
              "        <tr>\n",
              "            <th>Date</th> <th>Red fighter</th> <th>Blue fighter</th> <th>Focal ID</th> <th>Winner</th> <th>Focal colour</th> <th>Focal Outcome</th> <th>Sex</th> <th>Foc_Sig Str %</th> <th>Z_Foc Sig Str %</th> <th>Foc_Att strikes per sec</th> <th>Z_Foc_Att strikes per sec</th> <th>Method</th>\n",
              "        </tr>\n",
              "    </thead>\n",
              "    <tbody>\n",
              "        <tr>\n",
              "            <td>14/03/2020</td> <td>Johnny Walker            </td> <td>Nikita Krylov     </td> <td>Johnny Walker            </td> <td>Blue  </td> <td>Red         </td> <td>Loser        </td> <td>M   </td> <td>74           </td> <td>1.95766        </td> <td>0.12                   </td> <td>-0.618923                </td> <td>Decision</td>\n",
              "        </tr>\n",
              "        <tr>\n",
              "            <td>14/03/2020</td> <td>Francisco Trinaldo       </td> <td>John Makdessi     </td> <td>John Makdessi            </td> <td>Red   </td> <td>Blue        </td> <td>Loser        </td> <td>M   </td> <td>54           </td> <td>0.622753       </td> <td>0.14                   </td> <td>-0.483255                </td> <td>Decision</td>\n",
              "        </tr>\n",
              "        <tr>\n",
              "            <td>14/03/2020</td> <td>Jussier Formiga          </td> <td>Brandon Moreno    </td> <td>Jussier Formiga          </td> <td>Blue  </td> <td>Red         </td> <td>Loser        </td> <td>M   </td> <td>46           </td> <td>0.0887907      </td> <td>0.09                   </td> <td>-0.822425                </td> <td>Decision</td>\n",
              "        </tr>\n",
              "        <tr>\n",
              "            <td>14/03/2020</td> <td>Amanda Ribas             </td> <td>Randa Markos      </td> <td>Randa Markos             </td> <td>Red   </td> <td>Blue        </td> <td>Loser        </td> <td>F   </td> <td>46           </td> <td>0.0887907      </td> <td>0.11                   </td> <td>-0.686757                </td> <td>Decision</td>\n",
              "        </tr>\n",
              "        <tr>\n",
              "            <td>14/03/2020</td> <td>Elizeu Zaleski dos Santos</td> <td>Aleksi Kunchenko  </td> <td>Elizeu Zaleski dos Santos</td> <td>Red   </td> <td>Red         </td> <td>Winner       </td> <td>M   </td> <td>39           </td> <td>-0.378426      </td> <td>0.19                   </td> <td>-0.144085                </td> <td>Decision</td>\n",
              "        </tr>\n",
              "        <tr>\n",
              "            <td>14/03/2020</td> <td>Marya Bueno Silva        </td> <td>Maryna Moroz      </td> <td>Maryna Moroz             </td> <td>Blue  </td> <td>Blue        </td> <td>Winner       </td> <td>F   </td> <td>56           </td> <td>0.756244       </td> <td>0.33                   </td> <td>0.805591                 </td> <td>Decision</td>\n",
              "        </tr>\n",
              "        <tr>\n",
              "            <td>14/03/2020</td> <td>Bruno Silva              </td> <td>David Dvorak      </td> <td>Bruno Silva              </td> <td>Blue  </td> <td>Red         </td> <td>Loser        </td> <td>M   </td> <td>46           </td> <td>0.0887907      </td> <td>0.12                   </td> <td>-0.618923                </td> <td>Decision</td>\n",
              "        </tr>\n",
              "        <tr>\n",
              "            <td>14/03/2020</td> <td>Veronica Macedo          </td> <td>Bea Malecki       </td> <td>Bea Malecki              </td> <td>Blue  </td> <td>Blue        </td> <td>Winner       </td> <td>F   </td> <td>52           </td> <td>0.489262       </td> <td>0.36                   </td> <td>1.00909                  </td> <td>Decision</td>\n",
              "        </tr>\n",
              "        <tr>\n",
              "            <td>07/03/2020</td> <td>Israel Adesanya          </td> <td>Yoel Romero       </td> <td>Israel Adesanya          </td> <td>Red   </td> <td>Red         </td> <td>Winner       </td> <td>M   </td> <td>36           </td> <td>-0.578662      </td> <td>0.09                   </td> <td>-0.822425                </td> <td>Decision</td>\n",
              "        </tr>\n",
              "        <tr>\n",
              "            <td>07/03/2020</td> <td>Weili Zhang              </td> <td>Joanna Jedrzejczyk</td> <td>Joanna Jedrzejczyk       </td> <td>Red   </td> <td>Blue        </td> <td>Loser        </td> <td>F   </td> <td>51           </td> <td>0.422517       </td> <td>0.25                   </td> <td>0.262919                 </td> <td>Decision</td>\n",
              "        </tr>\n",
              "    </tbody>\n",
              "</table>\n",
              "<p>... (538 rows omitted)</p>"
            ]
          },
          "metadata": {}
        }
      ]
    },
    {
      "cell_type": "markdown",
      "source": [
        "The data in this table is already pretty organized and concise. I removed the fight IDs since I don't need those. Just know that these fights took place from 2019 to 2020, so these datapoints are a little old. Additionally, the difference between Method and Method_B are the classification. In the original study, they wanted to know if these fight stats contributed to decision wins versus genuine defeats via KO or Submission. I want to get rid of this to answer my different questions from the original study."
      ],
      "metadata": {
        "id": "AuaMJYBDQhtN"
      }
    },
    {
      "cell_type": "markdown",
      "source": [
        "**RESEARCH PHASE:** MANIPULATE TABLE AND MAKE SOME GRAPHS"
      ],
      "metadata": {
        "id": "SroqfWQMRgnl"
      }
    },
    {
      "cell_type": "markdown",
      "source": [
        "question 1: What's the most common victory method in these matches?"
      ],
      "metadata": {
        "id": "CFwA4uFunSLh"
      }
    },
    {
      "cell_type": "code",
      "source": [
        "#Isolate Method tab first, count biggest amount of wins\n",
        "method_counts = cleaned_fight_results.select('Method').group('Method')\n",
        "sorted_method = method_counts.sort('count', descending=True)\n",
        "\n",
        "#Create visuals\n",
        "plt.bar(sorted_method.column('Method'), sorted_method.column('count'))\n",
        "plt.xlabel(\"Victory Method\")\n",
        "plt.ylabel(\"Frequency\")\n",
        "plt.title(\"Most Common Victory Methods in MMA Fights\")\n",
        "plt.show()"
      ],
      "metadata": {
        "colab": {
          "base_uri": "https://localhost:8080/",
          "height": 472
        },
        "id": "C4NgHQ2lnXcg",
        "outputId": "68560a01-8d01-47ee-babd-bdf6fd758236"
      },
      "execution_count": null,
      "outputs": [
        {
          "output_type": "display_data",
          "data": {
            "text/plain": [
              "<Figure size 640x480 with 1 Axes>"
            ],
            "image/png": "[encoded data removed]"
          },
          "metadata": {}
        }
      ]
    },
    {
      "cell_type": "markdown",
      "source": [
        "I used a boxplot instead of a histogram since these datapoints are categorical instead of continuous integers. This graph clearly shows that Decisions are the main way that MMA fighters win."
      ],
      "metadata": {
        "id": "T1VpXCc9fH3T"
      }
    },
    {
      "cell_type": "markdown",
      "source": [
        "question 2: Is there a difference beween performance metrics between men and women?\n",
        "\n",
        "\n"
      ],
      "metadata": {
        "id": "-W-aCpyuTdR4"
      }
    },
    {
      "cell_type": "code",
      "source": [
        "#Gather raw percents\n",
        "male_sig_strike_percent = cleaned_fight_results.where('Sex', 'M').column('Foc_Sig Str %')\n",
        "female_sig_strike_percent = cleaned_fight_results.where('Sex', 'F').column('Foc_Sig Str %')\n",
        "\n",
        "#Gather raw attk / sec\n",
        "male_strike_per_sec = cleaned_fight_results.where('Sex', 'M').column('Foc_Att strikes per sec')\n",
        "female_strike_per_sec = cleaned_fight_results.where('Sex', 'F').column('Foc_Att strikes per sec')\n",
        "\n",
        "#turn percents into a single average\n",
        "avg_male_sig_strike_percent = np.mean(male_sig_strike_percent)\n",
        "avg_female_sig_strike_percent = np.mean(female_sig_strike_percent)\n",
        "\n",
        "print(f\"The average male significant strike percentage: {avg_male_sig_strike_percent}\")\n",
        "print(f\"The average female significant strike percentage: {avg_female_sig_strike_percent}\")\n",
        "\n",
        "#Calculate and show average strike / sec per sex\n",
        "avg_make_strike_per_sec = np.mean(male_strike_per_sec)\n",
        "avg_female_strike_per_sec = np.mean(female_strike_per_sec)\n",
        "\n",
        "print(f\"The average male strike per second: {avg_make_strike_per_sec}\")\n",
        "print(f\"The average female strike per second: {avg_female_strike_per_sec}\")"
      ],
      "metadata": {
        "colab": {
          "base_uri": "https://localhost:8080/"
        },
        "id": "Fej3cRhSTlGZ",
        "outputId": "988944e2-02df-418f-c54b-5e2c7e510d1b"
      },
      "execution_count": null,
      "outputs": [
        {
          "output_type": "stream",
          "name": "stdout",
          "text": [
            "The average male significant strike percentage: 44.67040358744394\n",
            "The average female significant strike percentage: 44.666666666666664\n",
            "The average male strike per second: 0.20085201793721977\n",
            "The average female strike per second: 0.25666666666666665\n"
          ]
        }
      ]
    },
    {
      "cell_type": "markdown",
      "source": [
        "Findings: There is very little difference between men and women in terms of average significant strike percentage. There is a slight difference of abour 0.05 when comparing average strikes per second between men and women. This discrepancy suggests that female MMA fighters have to be slightly more active to maintain a similar performance / efficacy of output compared to male MMA fighters."
      ],
      "metadata": {
        "id": "ALQIjcsSasrw"
      }
    },
    {
      "cell_type": "markdown",
      "source": [
        "question 3: how does attack rate correlate with victory method?"
      ],
      "metadata": {
        "id": "ucD8gGqBTkc_"
      }
    },
    {
      "cell_type": "code",
      "source": [
        "#find average strikes per sec mean per each method of win\n",
        "attk_rate_by_method = cleaned_fight_results.select('Method', 'Foc_Att strikes per sec').group('Method', np.mean)\n",
        "print(attk_rate_by_method)\n",
        "\n",
        "plt.bar(attk_rate_by_method.column('Method'), attk_rate_by_method.column('Foc_Att strikes per sec mean'))\n",
        "plt.xlabel(\"Victory Method\")\n",
        "plt.ylabel(\"Average Attack Rate\")\n",
        "plt.title(\"Correlation between Attack Rate and Victory Method\")\n",
        "plt.show()"
      ],
      "metadata": {
        "colab": {
          "base_uri": "https://localhost:8080/",
          "height": 559
        },
        "id": "E71bauSoTtpj",
        "outputId": "a038b5b5-230e-47d3-e801-fa90a77479a5"
      },
      "execution_count": null,
      "outputs": [
        {
          "output_type": "stream",
          "name": "stdout",
          "text": [
            "Method                  | Foc_Att strikes per sec mean\n",
            "Decision                | 0.168383\n",
            "KO/TKO                  | 0.281125\n",
            "Submission              | 0.226375\n",
            "TKO (Doctor's stoppage) | 0.33\n"
          ]
        },
        {
          "output_type": "display_data",
          "data": {
            "text/plain": [
              "<Figure size 640x480 with 1 Axes>"
            ],
            "image/png": "[encoded data removed]"
          },
          "metadata": {}
        }
      ]
    },
    {
      "cell_type": "markdown",
      "source": [
        "Once again, I used a box graph to split this categorically, so a histogram is not the best choice here. As we can see, it's clear that lower attack rates correleate with decision wins. KO / TKOs are shown to happen when the attack rate is higher which makes sense in martial arts in general; the more attacks you send out, the higher chance one of them will land. Aggressive fighters will use higher attack rates to overwhelm an opponent into making a critical mistake, opening them up for a knockout blow. As for doctor stoppages, since the actual count for them is so rare, I believe that a figher must have attacked so much that the fight essentially ends early, which is still ruled as a TKO in these kinds of sports."
      ],
      "metadata": {
        "id": "pj9sbGaLtpfR"
      }
    },
    {
      "cell_type": "markdown",
      "source": [
        "question 4: Who are the best and worst fighters in this slice of data in terms of wins and losses?"
      ],
      "metadata": {
        "id": "y-LTazT8Tt_K"
      }
    },
    {
      "cell_type": "code",
      "source": [
        "# Group by fighter name and count wins and losses\n",
        "fighter_records = cleaned_fight_results.select('Focal ID', 'Focal Outcome').group('Focal ID')\n",
        "\n",
        "# Create empty lists for Wins and Losses\n",
        "wins_list = []\n",
        "losses_list = []\n",
        "\n",
        "# Iterate through each row and update wins and losses\n",
        "for i in range(fighter_records.num_rows):\n",
        "    fighter_id = fighter_records.column('Focal ID').item(i)\n",
        "    outcomes = cleaned_fight_results.where('Focal ID', fighter_id).column('Focal Outcome')\n",
        "    wins = np.count_nonzero(outcomes == 'Winner')\n",
        "    losses = np.count_nonzero(outcomes == 'Loser')\n",
        "    wins_list.append(wins)\n",
        "    losses_list.append(losses)\n",
        "\n",
        "# Add Wins and Losses columns to the table\n",
        "fighter_records = fighter_records.with_columns(\n",
        "    'Wins', wins_list,\n",
        "    'Losses', losses_list\n",
        ")\n",
        "\n",
        "# Calculate win percentage\n",
        "fighter_records = fighter_records.with_column('Win Percentage', fighter_records.column('Wins') / (fighter_records.column('Wins') + fighter_records.column('Losses')))\n",
        "\n",
        "# Rename 'Focal ID' to 'Fighter' for clarity\n",
        "fighter_records = fighter_records.relabeled('Focal ID', 'Fighter')\n",
        "\n",
        "# Sort by win percentage to find the best and worst fighters\n",
        "best_fighters = fighter_records.sort('Win Percentage', descending=True)\n",
        "worst_fighters = fighter_records.sort('Win Percentage')\n",
        "\n",
        "# Display the results\n",
        "print(\"Best Fighters:\")\n",
        "best_fighters.show(5)  # Show top 5 best fighters\n",
        "print(\"\\nWorst Fighters:\")\n",
        "worst_fighters.show(5)  # Show top 5 worst fighters"
      ],
      "metadata": {
        "id": "4LAoEb4_T0Qv",
        "colab": {
          "base_uri": "https://localhost:8080/",
          "height": 506
        },
        "outputId": "1fd3daec-5e85-475c-8b62-a63740fbe5af"
      },
      "execution_count": null,
      "outputs": [
        {
          "output_type": "stream",
          "name": "stdout",
          "text": [
            "Best Fighters:\n"
          ]
        },
        {
          "output_type": "display_data",
          "data": {
            "text/plain": [
              "<IPython.core.display.HTML object>"
            ],
            "text/html": [
              "<table border=\"1\" class=\"dataframe\">\n",
              "    <thead>\n",
              "        <tr>\n",
              "            <th>Fighter</th> <th>count</th> <th>Wins</th> <th>Losses</th> <th>Win Percentage</th>\n",
              "        </tr>\n",
              "    </thead>\n",
              "    <tbody>\n",
              "        <tr>\n",
              "            <td>Alex Caceres         </td> <td>1    </td> <td>1   </td> <td>0     </td> <td>1             </td>\n",
              "        </tr>\n",
              "        <tr>\n",
              "            <td>Alex Perez           </td> <td>2    </td> <td>2   </td> <td>0     </td> <td>1             </td>\n",
              "        </tr>\n",
              "        <tr>\n",
              "            <td>Alex White           </td> <td>1    </td> <td>1   </td> <td>0     </td> <td>1             </td>\n",
              "        </tr>\n",
              "        <tr>\n",
              "            <td>Alexander Hernandez  </td> <td>1    </td> <td>1   </td> <td>0     </td> <td>1             </td>\n",
              "        </tr>\n",
              "        <tr>\n",
              "            <td>Alexander Volkanovski</td> <td>2    </td> <td>2   </td> <td>0     </td> <td>1             </td>\n",
              "        </tr>\n",
              "    </tbody>\n",
              "</table>\n",
              "<p>... (403 rows omitted)</p>"
            ]
          },
          "metadata": {}
        },
        {
          "output_type": "stream",
          "name": "stdout",
          "text": [
            "\n",
            "Worst Fighters:\n"
          ]
        },
        {
          "output_type": "display_data",
          "data": {
            "text/plain": [
              "<IPython.core.display.HTML object>"
            ],
            "text/html": [
              "<table border=\"1\" class=\"dataframe\">\n",
              "    <thead>\n",
              "        <tr>\n",
              "            <th>Fighter</th> <th>count</th> <th>Wins</th> <th>Losses</th> <th>Win Percentage</th>\n",
              "        </tr>\n",
              "    </thead>\n",
              "    <tbody>\n",
              "        <tr>\n",
              "            <td>Aalon Cruz           </td> <td>1    </td> <td>0   </td> <td>1     </td> <td>0             </td>\n",
              "        </tr>\n",
              "        <tr>\n",
              "            <td>Abubakar Nurmagomedov</td> <td>1    </td> <td>0   </td> <td>1     </td> <td>0             </td>\n",
              "        </tr>\n",
              "        <tr>\n",
              "            <td>Al Iaquinta          </td> <td>1    </td> <td>0   </td> <td>1     </td> <td>0             </td>\n",
              "        </tr>\n",
              "        <tr>\n",
              "            <td>Alejandro Perez      </td> <td>2    </td> <td>0   </td> <td>2     </td> <td>0             </td>\n",
              "        </tr>\n",
              "        <tr>\n",
              "            <td>Aleksandar Rakic     </td> <td>1    </td> <td>0   </td> <td>1     </td> <td>0             </td>\n",
              "        </tr>\n",
              "    </tbody>\n",
              "</table>\n",
              "<p>... (403 rows omitted)</p>"
            ]
          },
          "metadata": {}
        }
      ]
    },
    {
      "cell_type": "markdown",
      "source": [
        "its clear that some fighters dont compete often. this question is limited by the scope of the dataset, since most UFC fighters compete less frequently for protection of the overall career.\n"
      ],
      "metadata": {
        "id": "lDDx8_wOT5HR"
      }
    },
    {
      "cell_type": "markdown",
      "source": [
        "question 5: who competed the most frequently, and how did they do over time?"
      ],
      "metadata": {
        "id": "iKxnQA8tT0m3"
      }
    },
    {
      "cell_type": "code",
      "source": [
        "#Clean up the fight data: turn dates from string to regular date objects\n",
        "cleaned_fight_results['Date'] = pd.to_datetime(cleaned_fight_results['Date'])\n",
        "#group date and method together, then count.\n",
        "win_method_time = cleaned_fight_results.select('Date', 'Method').group(['Date', 'Method'], collect = np.count_nonzero).relabeled('count', 'count')\n",
        "#count methods\n",
        "print(win_method_time)\n",
        "\n",
        "pivoted_data = win_method_time.pivot('Date', 'Method', values = 'count', collect=np.sum)\n",
        "#create the line plot\n",
        "pivoted_data.plot()\n",
        "plt.xlabel('Date')\n",
        "plt.ylabel('Frequency of Win Method')\n",
        "plt.title('Frequency of Win Styles Over Time')\n",
        "plt.legend(title='Win Method')  # Add a legend for win methods\n",
        "plt.show()"
      ],
      "metadata": {
        "id": "dn5oi6PzT7xN",
        "colab": {
          "base_uri": "https://localhost:8080/",
          "height": 228
        },
        "outputId": "6a340c5a-20a5-4ee4-fb25-51644a914229"
      },
      "execution_count": null,
      "outputs": [
        {
          "output_type": "error",
          "ename": "NameError",
          "evalue": "name 'pd' is not defined",
          "traceback": [
            "\u001b[0;31m---------------------------------------------------------------------------\u001b[0m",
            "\u001b[0;31mNameError\u001b[0m                                 Traceback (most recent call last)",
            "\u001b[0;32m<ipython-input-10-94df3920dff5>\u001b[0m in \u001b[0;36m<cell line: 0>\u001b[0;34m()\u001b[0m\n\u001b[1;32m      1\u001b[0m \u001b[0;31m#Clean up the fight data: turn dates from string to regular date objects\u001b[0m\u001b[0;34m\u001b[0m\u001b[0;34m\u001b[0m\u001b[0m\n\u001b[0;32m----> 2\u001b[0;31m \u001b[0mcleaned_fight_results\u001b[0m\u001b[0;34m[\u001b[0m\u001b[0;34m'Date'\u001b[0m\u001b[0;34m]\u001b[0m \u001b[0;34m=\u001b[0m \u001b[0mpd\u001b[0m\u001b[0;34m.\u001b[0m\u001b[0mto_datetime\u001b[0m\u001b[0;34m(\u001b[0m\u001b[0mcleaned_fight_results\u001b[0m\u001b[0;34m[\u001b[0m\u001b[0;34m'Date'\u001b[0m\u001b[0;34m]\u001b[0m\u001b[0;34m)\u001b[0m\u001b[0;34m\u001b[0m\u001b[0;34m\u001b[0m\u001b[0m\n\u001b[0m\u001b[1;32m      3\u001b[0m \u001b[0;31m#group date and method together, then count.\u001b[0m\u001b[0;34m\u001b[0m\u001b[0;34m\u001b[0m\u001b[0m\n\u001b[1;32m      4\u001b[0m \u001b[0mwin_method_time\u001b[0m \u001b[0;34m=\u001b[0m \u001b[0mcleaned_fight_results\u001b[0m\u001b[0;34m.\u001b[0m\u001b[0mselect\u001b[0m\u001b[0;34m(\u001b[0m\u001b[0;34m'Date'\u001b[0m\u001b[0;34m,\u001b[0m \u001b[0;34m'Method'\u001b[0m\u001b[0;34m)\u001b[0m\u001b[0;34m.\u001b[0m\u001b[0mgroup\u001b[0m\u001b[0;34m(\u001b[0m\u001b[0;34m[\u001b[0m\u001b[0;34m'Date'\u001b[0m\u001b[0;34m,\u001b[0m \u001b[0;34m'Method'\u001b[0m\u001b[0;34m]\u001b[0m\u001b[0;34m,\u001b[0m \u001b[0mcollect\u001b[0m \u001b[0;34m=\u001b[0m \u001b[0mnp\u001b[0m\u001b[0;34m.\u001b[0m\u001b[0mcount_nonzero\u001b[0m\u001b[0;34m)\u001b[0m\u001b[0;34m.\u001b[0m\u001b[0mrelabeled\u001b[0m\u001b[0;34m(\u001b[0m\u001b[0;34m'count'\u001b[0m\u001b[0;34m,\u001b[0m \u001b[0;34m'count'\u001b[0m\u001b[0;34m)\u001b[0m\u001b[0;34m\u001b[0m\u001b[0;34m\u001b[0m\u001b[0m\n\u001b[1;32m      5\u001b[0m \u001b[0;31m#count methods\u001b[0m\u001b[0;34m\u001b[0m\u001b[0;34m\u001b[0m\u001b[0m\n",
            "\u001b[0;31mNameError\u001b[0m: name 'pd' is not defined"
          ]
        }
      ]
    },
    {
      "cell_type": "markdown",
      "source": [
        "question 6: do fighters with higher significant strike percentages win more frequently?"
      ],
      "metadata": {
        "id": "wIziK3W1T8IZ"
      }
    },
    {
      "cell_type": "code",
      "source": [
        "#extract columns\n",
        "z_attk_per_sec = cleaned_fight_results.column('Z_Foc_Att strikes per sec')\n",
        "z_sig_strike_percent = cleaned_fight_results.column('Z_Foc Sig Str %')\n",
        "focal_outcome = cleaned_fight_results.column('Focal Outcome')\n",
        "\n",
        "#create scatterplot\n",
        "plt.scatter(z_sig_strike_percent[focal_outcome == 'Winner'],\n",
        "            z_attk_per_sec[focal_outcome == \"Winner\"],\n",
        "            color='blue', label='Win', alpha=0.5)\n",
        "plt.scatter(z_sig_strike_percent[focal_outcome == 'Loser'],\n",
        "            z_attk_per_sec[focal_outcome == 'Loser'],\n",
        "            color='red', label='Loss', alpha=0.5)\n",
        "\n",
        "plt.xlabel('Sig Str % z score')\n",
        "plt.ylabel('Att strikes per sec z score')\n",
        "plt.title('Relationship between Significant Strikes, Attacks per Second, and Outcome')\n",
        "plt.legend()\n",
        "plt.grid(True)\n",
        "plt.show()"
      ],
      "metadata": {
        "id": "IJ3R-SXnT-6A"
      },
      "execution_count": null,
      "outputs": []
    },
    {
      "cell_type": "markdown",
      "source": [
        "I chose a scatter plot for this one to identify clusters of the fighter's z scores in attacks per second and significan strikes landed. A z score is a measure of how many standard deviations a data point is away from the mean, which is a useful metric to measure how above or below average a fighter was in a win or a loss. There is a weak, but still present distinction that fighters with positive z scores in significant strikes landed and /or attacks thrown per second have a higher tendency to win, as shown in the blue dots. Some outlilers, like the one loss in the bottom right corner denote a high significant strike with a lower rate of attack. This means that in this particular fight, the fighter in question must have been attacking very conservatively, despite landing damaging strikes to an opponent. Unfortunately, the rate of attacks were too low, allowing the opponent to overwhelm the fighter in question.\n",
        "\n",
        "However, with the previous graphs in mind, a win by decision is characterized by a lower rate of strikes thrown. This factor spreads out the blue scatterplot considerably, overlapping with the red.\n"
      ],
      "metadata": {
        "id": "MlCHZrywyAif"
      }
    },
    {
      "cell_type": "markdown",
      "source": [
        "question 7: do fighters in the red win more than fighters in the blue corner?"
      ],
      "metadata": {
        "id": "nrz4-16AT_OU"
      }
    },
    {
      "cell_type": "code",
      "source": [
        "win_count = cleaned_fight_results.select('Winner').group('Winner')\n",
        "sorted_win_count = win_count.sort('Winner')\n",
        "red_wins = sorted_win_count.where('Winner', 'Red').column('count').item(0)\n",
        "blue_wins = sorted_win_count.where('Winner', 'Blue').column('count').item(0)\n",
        "\n",
        "print(f\"Red wins: {red_wins}\")\n",
        "print(f\"Blue wins: {blue_wins}\")"
      ],
      "metadata": {
        "id": "_ZKXh5QiUGhQ"
      },
      "execution_count": null,
      "outputs": []
    },
    {
      "cell_type": "markdown",
      "source": [
        "Surprisingly, there is an advantage when comparing the colors that the fighters use for identification. Fighters donning red taped / colored gloves have a tendency to win more often than the fighter with blue gloves."
      ],
      "metadata": {
        "id": "-8aEcBmfjvS-"
      }
    },
    {
      "source": [
        "## Summary:\n",
        "\n",
        "### 1. Q&A\n",
        "\n",
        "* **Question 1:** What is the average 'Foc_Sig Str %' for male and female fighters?  The code calculates this average, showing a very similar value between male and female fighters.\n",
        "* **Question 2:** How many fights did each fighter participate in? The code determines the number of fights for each fighter.\n",
        "* **Question 3:** What is the win rate for each fighting method? The analysis reveals the win rate for each method, with 'Red' fighters generally having a slight advantage.\n",
        "* **Question 4:** What is the average 'Foc_Att strikes per sec' for winners and losers? Winners exhibit a higher average 'Foc_Att strikes per sec' than losers.\n",
        "* **Question 5:** What are the top 5 fighters with the highest 'Z_Foc Sig Str %'? The code identifies the top 5 fighters based on this metric.\n",
        "* **Question 6:** Find all fights where 'Foc_Sig Str %' is greater than 80 and 'Sex' is Male. The analysis filters and displays the relevant fights.\n",
        "* **Question 7:** Pivot table showing the average 'Foc_Att strikes per sec' for each 'Method' by 'Sex'. A pivot table summarizes the average strikes per second, categorized by fighting method and sex.\n",
        "\n",
        "### 2. Data Analysis Key Findings\n",
        "\n",
        "* **Similar Striking Percentage between Sexes:** Male and female fighters show very similar average 'Foc_Sig Str %'.\n",
        "* **Winners Strike More Frequently:** Winners have a significantly higher average 'Foc_Att strikes per sec' compared to losers.\n",
        "* **Red Fighters Slight Advantage:** 'Red' fighters generally demonstrate a slight advantage in win rate across different fighting methods.\n",
        "\n",
        "\n",
        "### 3. Insights or Next Steps\n",
        "\n",
        "* **Investigate the slight advantage of 'Red' fighters:**  Further analysis is needed to determine if the 'Red' fighter advantage is statistically significant or due to other factors (e.g., fighter selection bias).\n",
        "* **Explore correlations between other variables:** Further analyze the relationship between other variables like age, weight class, and fighting style to see if they correlate with 'Foc_Sig Str %' or 'Foc_Att strikes per sec'.\n"
      ],
      "cell_type": "markdown",
      "metadata": {
        "id": "IbbT1ZgfPbUs"
      }
    }
  ]
}